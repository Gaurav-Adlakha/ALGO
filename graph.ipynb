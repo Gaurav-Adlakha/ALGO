{
 "cells": [
  {
   "cell_type": "code",
   "execution_count": 76,
   "metadata": {},
   "outputs": [],
   "source": [
    "",
    "class vertex:\n",
    "    \n",
    "    def __init__(self,key):\n",
    "        self.id = key\n",
    "        self.connectecTo = {}\n",
    "        \n",
    "    def addNeigbour(self,nbr,weight=0):\n",
    "        self.connectecTo[nbr] = weight\n",
    "        \n",
    "    def getConnection(self):\n",
    "        return self.connectecTo.keys()\n",
    "    \n",
    "    def getId(self):\n",
    "        return self.id\n",
    "    \n",
    "    def getWeight(self,nbr):\n",
    "        return self.connectecTo[nbr]\n",
    "    \n",
    "    def __str__(self):\n",
    "        return str(self.id) + ' connected to :' + str( [X for X in self.connectecTo] )\n",
    "    \n"
   ]
  },
  {
   "cell_type": "code",
   "execution_count": 98,
   "metadata": {},
   "outputs": [],
   "source": [
    "ver = vertex(10)"
   ]
  },
  {
   "cell_type": "code",
   "execution_count": 99,
   "metadata": {},
   "outputs": [],
   "source": [
    "ver.addNeigbour(15)"
   ]
  },
  {
   "cell_type": "code",
   "execution_count": 101,
   "metadata": {},
   "outputs": [],
   "source": [
    "ver.addNeigbour(18)"
   ]
  },
  {
   "cell_type": "code",
   "execution_count": 102,
   "metadata": {},
   "outputs": [
    {
     "data": {
      "text/plain": [
       "dict_keys([15, 18])"
      ]
     },
     "execution_count": 102,
     "metadata": {},
     "output_type": "execute_result"
    }
   ],
   "source": [
    "ver.getConnection()"
   ]
  },
  {
   "cell_type": "code",
   "execution_count": 68,
   "metadata": {},
   "outputs": [
    {
     "data": {
      "text/plain": [
       "0"
      ]
     },
     "execution_count": 68,
     "metadata": {},
     "output_type": "execute_result"
    }
   ],
   "source": [
    "ver.getWeight(18)"
   ]
  },
  {
   "cell_type": "code",
   "execution_count": 81,
   "metadata": {},
   "outputs": [
    {
     "name": "stdout",
     "output_type": "stream",
     "text": [
      "10 connected to :[15, 18]\n"
     ]
    }
   ],
   "source": [
    "print(ver)"
   ]
  },
  {
   "cell_type": "code",
   "execution_count": 87,
   "metadata": {},
   "outputs": [],
   "source": [
    "class graph:\n",
    "    \n",
    "    def __init__(self):\n",
    "        self.vertexList = {}\n",
    "        self.numberOfvertex = 0\n",
    "        \n",
    "    def addVertex(self,key):\n",
    "        self.numberOfvertex +=1\n",
    "        newvertex = vertex(key)\n",
    "        self.vertexList[key] = newvertex\n",
    "        return newvertex\n",
    "    \n",
    "    def getvertex(self,n):\n",
    "        if n in self.vertexList:\n",
    "            return self.vertexList[n]\n",
    "        else:\n",
    "            return None\n",
    "        \n",
    "    def addEdge(self,frm,to,weight=0):\n",
    "        \n",
    "        if frm not in self.vertexList:\n",
    "            self.addVertex(frm)\n",
    "        if to not in self.vertexList:\n",
    "            self.addVertex(to)\n",
    "        \n",
    "        self.vertexList[frm].addNeigbour(self.vertexList[to],weight)\n",
    "        \n",
    "    def getvertices(self):\n",
    "        return self.vertexList.keys()\n",
    "    \n",
    "    def __iter__(self):\n",
    "        return iter(self.vertexList.values())\n",
    "    \n",
    "    def __contain__(self,n):\n",
    "        return n in self.vertexList\n",
    "    "
   ]
  },
  {
   "cell_type": "code",
   "execution_count": 88,
   "metadata": {},
   "outputs": [],
   "source": [
    "g = graph()"
   ]
  },
  {
   "cell_type": "code",
   "execution_count": 89,
   "metadata": {},
   "outputs": [],
   "source": [
    "for i in range(6):\n",
    "    g.addVertex(i)"
   ]
  },
  {
   "cell_type": "code",
   "execution_count": 90,
   "metadata": {},
   "outputs": [
    {
     "data": {
      "text/plain": [
       "{0: <__main__.vertex at 0x259bfbe3748>,\n",
       " 1: <__main__.vertex at 0x259bfbe3ef0>,\n",
       " 2: <__main__.vertex at 0x259bfbe3470>,\n",
       " 3: <__main__.vertex at 0x259bfbe3320>,\n",
       " 4: <__main__.vertex at 0x259bfbe3ba8>,\n",
       " 5: <__main__.vertex at 0x259bfbe3358>}"
      ]
     },
     "execution_count": 90,
     "metadata": {},
     "output_type": "execute_result"
    }
   ],
   "source": [
    "g.vertexList"
   ]
  },
  {
   "cell_type": "code",
   "execution_count": 105,
   "metadata": {},
   "outputs": [],
   "source": [
    "g.addEdge(2,4,100)"
   ]
  },
  {
   "cell_type": "code",
   "execution_count": 109,
   "metadata": {},
   "outputs": [
    {
     "name": "stdout",
     "output_type": "stream",
     "text": [
      "0 connected to :[<__main__.vertex object at 0x00000259BFBE3EF0>, <__main__.vertex object at 0x00000259BFBE3BA8>]\n",
      "dict_keys([<__main__.vertex object at 0x00000259BFBE3EF0>, <__main__.vertex object at 0x00000259BFBE3BA8>])\n",
      " \n",
      "1 connected to :[]\n",
      "dict_keys([])\n",
      " \n",
      "2 connected to :[<__main__.vertex object at 0x00000259BFBE3BA8>]\n",
      "dict_keys([<__main__.vertex object at 0x00000259BFBE3BA8>])\n",
      " \n",
      "3 connected to :[]\n",
      "dict_keys([])\n",
      " \n",
      "4 connected to :[]\n",
      "dict_keys([])\n",
      " \n",
      "5 connected to :[]\n",
      "dict_keys([])\n",
      " \n"
     ]
    }
   ],
   "source": [
    "for v in g:\n",
    "    print (v)\n",
    "    print  (v.getConnection())\n",
    "    print (\" \")"
   ]
  },
  {
   "cell_type": "code",
   "execution_count": null,
   "metadata": {},
   "outputs": [],
   "source": []
  }
 ],
 "metadata": {
  "kernelspec": {
   "display_name": "Python 3",
   "language": "python",
   "name": "python3"
  },
  "language_info": {
   "codemirror_mode": {
    "name": "ipython",
    "version": 3
   },
   "file_extension": ".py",
   "mimetype": "text/x-python",
   "name": "python",
   "nbconvert_exporter": "python",
   "pygments_lexer": "ipython3",
   "version": "3.6.4"
  }
 },
 "nbformat": 4,
 "nbformat_minor": 2
}
