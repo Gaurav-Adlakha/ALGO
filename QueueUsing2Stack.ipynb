{
 "cells": [
  {
   "cell_type": "code",
   "execution_count": 133,
   "metadata": {},
   "outputs": [],
   "source": [
    "class QueueUsing2Stack(object):\n",
    "    \n",
    "    def __init__(self):\n",
    "        self.instack =[]\n",
    "        self.outstack = []\n",
    "\n",
    "    def enque(self,item):\n",
    "        self.instack.append(item)\n",
    "    \n",
    "    def deque(self):\n",
    "        \n",
    "        if not  outstack:\n",
    "            while not instack:\n",
    "                self.outstack.append(self.instack)\n",
    "        return self.outstack.pop()\n",
    "        \n",
    "        "
   ]
  }
 ],
 "metadata": {
  "kernelspec": {
   "display_name": "Python 3",
   "language": "python",
   "name": "python3"
  },
  "language_info": {
   "codemirror_mode": {
    "name": "ipython",
    "version": 3
   },
   "file_extension": ".py",
   "mimetype": "text/x-python",
   "name": "python",
   "nbconvert_exporter": "python",
   "pygments_lexer": "ipython3",
   "version": "3.6.4"
  }
 },
 "nbformat": 4,
 "nbformat_minor": 2
}
