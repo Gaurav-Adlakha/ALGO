{
 "cells": [
  {
   "cell_type": "code",
   "execution_count": 25,
   "metadata": {},
   "outputs": [],
   "source": [
    "class stack(object):\n",
    "    \n",
    "    def __init__(self):\n",
    "        self.items = []\n",
    "        \n",
    "    def push(self,item):\n",
    "        self.items.append(item)\n",
    "        \n",
    "    def pop(self):\n",
    "        return self.items.pop()\n",
    "    \n",
    "    def peek(self):\n",
    "        return self.items[len(self.items)-1]\n",
    "    \n",
    "    def isEmpty(self):\n",
    "        return self.items == []\n",
    "    \n",
    "    def size(self):\n",
    "        return len(self.items)\n",
    "       "
   ]
  },
  {
   "cell_type": "code",
   "execution_count": 94,
   "metadata": {},
   "outputs": [
    {
     "data": {
      "text/plain": [
       "'C:\\\\Users\\\\gaura'"
      ]
     },
     "execution_count": 94,
     "metadata": {},
     "output_type": "execute_result"
    }
   ],
   "source": [
    "pwd"
   ]
  },
  {
   "cell_type": "code",
   "execution_count": 52,
   "metadata": {},
   "outputs": [],
   "source": [
    "class queue(object):\n",
    "    \n",
    "    def __init__(self):\n",
    "        self.items =[]\n",
    "    \n",
    "    def isempty(self):\n",
    "        return self.items == []\n",
    "    \n",
    "    def enque(self,item):\n",
    "        self.items.insert(0,item)\n",
    "    \n",
    "    def deque(self):\n",
    "        self.items.pop()\n",
    "        \n",
    "    def size(self):\n",
    "        return len(self.items)\n",
    "    \n",
    "    def display(self):\n",
    "        print (self.items)"
   ]
  },
  {
   "cell_type": "code",
   "execution_count": 93,
   "metadata": {},
   "outputs": [],
   "source": [
    "class deque(object):\n",
    "    \n",
    "    def __init__(self):\n",
    "        self.items =[]\n",
    "    \n",
    "    def isempty(self):\n",
    "        return self.items == []\n",
    "    \n",
    "    def size(self):\n",
    "        return len(self.items)\n",
    "    \n",
    "    def display(self):\n",
    "        print (self.items)\n",
    "        \n",
    "    def push_front(self,item):\n",
    "        self.items.insert(0,item)\n",
    "    \n",
    "    def push_back(self,item):\n",
    "        self.items.append(item)\n",
    "    \n",
    "    def pop_front(self):\n",
    "        #new_que = queue()\n",
    "        #self.items.reverse()\n",
    "        self.items.pop(0)\n",
    "        #self.items.reverse()\n",
    "        \n",
    "    def pop_back(self):\n",
    "        self.items.pop()\n",
    "\n",
    "    def queue(self):\n",
    "        new_list =[]\n",
    "        return new_list"
   ]
  },
  {
   "cell_type": "code",
   "execution_count": null,
   "metadata": {},
   "outputs": [],
   "source": []
  }
 ],
 "metadata": {
  "kernelspec": {
   "display_name": "Python 3",
   "language": "python",
   "name": "python3"
  },
  "language_info": {
   "codemirror_mode": {
    "name": "ipython",
    "version": 3
   },
   "file_extension": ".py",
   "mimetype": "text/x-python",
   "name": "python",
   "nbconvert_exporter": "python",
   "pygments_lexer": "ipython3",
   "version": "3.6.4"
  }
 },
 "nbformat": 4,
 "nbformat_minor": 2
}
