{
 "cells": [
  {
   "cell_type": "code",
   "execution_count": 122,
   "metadata": {},
   "outputs": [],
   "source": [
    "def bal_check(s):\n",
    "    \n",
    "    opening = set( '({]' )\n",
    "    matching = set([  ('(',')'),('{','}'), ('[',']')  ])\n",
    "    stack = []\n",
    "    \n",
    "    for pra in s:\n",
    "        if pra  in opening:\n",
    "            stack.append(pra)\n",
    "        \n",
    "        else:\n",
    "            if len(stack)==0:\n",
    "                return False\n",
    "            \n",
    "            if (pra,stack.pop()) not in matching:\n",
    "                return False\n",
    "    return len(stack)==0\n",
    "        \n",
    "        "
   ]
  },
  {
   "cell_type": "code",
   "execution_count": null,
   "metadata": {},
   "outputs": [],
   "source": []
  }
 ],
 "metadata": {
  "kernelspec": {
   "display_name": "Python 3",
   "language": "python",
   "name": "python3"
  },
  "language_info": {
   "codemirror_mode": {
    "name": "ipython",
    "version": 3
   },
   "file_extension": ".py",
   "mimetype": "text/x-python",
   "name": "python",
   "nbconvert_exporter": "python",
   "pygments_lexer": "ipython3",
   "version": "3.6.4"
  }
 },
 "nbformat": 4,
 "nbformat_minor": 2
}
