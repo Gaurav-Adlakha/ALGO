{
 "cells": [
  {
   "cell_type": "code",
   "execution_count": 120,
   "metadata": {},
   "outputs": [],
   "source": [
    "def anagram(s1,s2):\n",
    "    s1 = s1.replace(' ','').lower() # remove space and maket lower case\n",
    "    s2 = s2.replace(' ','').lower()\n",
    "    \n",
    "    if len(s1)!= len(s2): # size of two string is not equal not point in chekcing more\n",
    "        return False\n",
    "    \n",
    "    dict = {}\n",
    "    \n",
    "    for letter in s1:        # enter into dictionay and keep incaresing the occureance of char\n",
    "        if letter in dict:\n",
    "            dict[letter] +=1\n",
    "        else:\n",
    "            dict[letter] = 1\n",
    "            \n",
    "    for letter in s2:      # delte from dict and keep deceasing occurnace of char\n",
    "        if letter in dict:\n",
    "            dict[letter] -=1\n",
    "        else:\n",
    "            dict[letter] = 1\n",
    "            \n",
    "    for k in dict:       # check all the entire dict is empty for not moment we find the non empty dict return flase otherseise true\n",
    "        if dict[k] !=0:\n",
    "            return False\n",
    "    return True\n",
    "    "
   ]
  },
  {
   "cell_type": "code",
   "execution_count": 123,
   "metadata": {},
   "outputs": [
    {
     "name": "stdout",
     "output_type": "stream",
     "text": [
      "ALL TEST CASES PASSED\n"
     ]
    }
   ],
   "source": [
    "\"\"\"\n",
    "RUN THIS CELL TO TEST YOUR SOLUTION\n",
    "\"\"\"\n",
    "from nose.tools import assert_equal\n",
    "\n",
    "class AnagramTest(object):\n",
    "    \n",
    "    def test(self,sol):\n",
    "        assert_equal(sol('go go go','gggooo'),True)\n",
    "        assert_equal(sol('abc','cba'),True)\n",
    "        assert_equal(sol('hi man','hi     man'),True)\n",
    "        assert_equal(sol('aabbcc','aabbc'),False)\n",
    "        assert_equal(sol('123','1 2'),False)\n",
    "        print('ALL TEST CASES PASSED')\n",
    "\n",
    "# Run Tests\n",
    "t = AnagramTest()\n",
    "t.test(anagram)"
   ]
  },
  {
   "cell_type": "code",
   "execution_count": null,
   "metadata": {},
   "outputs": [],
   "source": []
  }
 ],
 "metadata": {
  "kernelspec": {
   "display_name": "Python 3",
   "language": "python",
   "name": "python3"
  },
  "language_info": {
   "codemirror_mode": {
    "name": "ipython",
    "version": 3
   },
   "file_extension": ".py",
   "mimetype": "text/x-python",
   "name": "python",
   "nbconvert_exporter": "python",
   "pygments_lexer": "ipython3",
   "version": "3.6.5"
  }
 },
 "nbformat": 4,
 "nbformat_minor": 2
}
